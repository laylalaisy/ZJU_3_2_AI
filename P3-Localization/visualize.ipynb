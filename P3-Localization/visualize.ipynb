{
 "cells": [
  {
   "cell_type": "code",
   "execution_count": 12,
   "metadata": {},
   "outputs": [],
   "source": [
    "import time\n",
    "import os\n",
    "import random\n",
    "import math\n",
    "\n",
    "import torch\n",
    "import torchvision\n",
    "import torch.nn as nn\n",
    "import torch.optim as optim\n",
    "import numpy as np\n",
    "import matplotlib.pyplot as plt\n",
    "from torch.utils.data import Dataset\n",
    "from torch.optim import lr_scheduler\n",
    "from torch.autograd import Variable\n",
    "from torchvision import datasets, models, transforms\n",
    "from PIL import Image\n",
    "\n",
    "import progressbar\n",
    "\n",
    "from __future__ import division\n",
    "\n",
    "plt.ion()   # interactive mode"
   ]
  },
  {
   "cell_type": "code",
   "execution_count": 13,
   "metadata": {},
   "outputs": [],
   "source": [
    "### Some utilities"
   ]
  },
  {
   "cell_type": "code",
   "execution_count": 14,
   "metadata": {},
   "outputs": [],
   "source": [
    "def to_2d_tensor(inp):\n",
    "    inp = torch.Tensor(inp)\n",
    "    if len(inp.size()) < 2:\n",
    "        inp = inp.unsqueeze(0)\n",
    "    return inp\n",
    "\n",
    "def xywh_to_x1y1x2y2(boxes):\n",
    "    boxes = to_2d_tensor(boxes)\n",
    "    boxes[:, 2] += boxes[:, 0] - 1\n",
    "    boxes[:, 3] += boxes[:, 1] - 1\n",
    "    return boxes\n",
    "\n",
    "def x1y1x2y2_to_xywh(boxes):\n",
    "    boxes = to_2d_tensor(boxes)\n",
    "    boxes[:, 2] -= boxes[:, 0] - 1\n",
    "    boxes[:, 3] -= boxes[:, 1] - 1\n",
    "    return boxes\n",
    "\n",
    "def crop_boxes(boxes, im_sizes):\n",
    "    boxes = to_2d_tensor(boxes)\n",
    "    im_sizes = to_2d_tensor(im_sizes)\n",
    "    boxes = xywh_to_x1y1x2y2(boxes)\n",
    "    zero = torch.Tensor([0])\n",
    "    boxes[:, 0] = torch.max(torch.min(boxes[:, 0], im_sizes[:, 0]), zero)\n",
    "    boxes[:, 1] = torch.max(torch.min(boxes[:, 1], im_sizes[:, 1]), zero)\n",
    "    boxes[:, 2] = torch.max(torch.min(boxes[:, 2], im_sizes[:, 0]), zero)\n",
    "    boxes[:, 3] = torch.max(torch.min(boxes[:, 3], im_sizes[:, 1]), zero)\n",
    "    boxes = x1y1x2y2_to_xywh(boxes)\n",
    "    return boxes\n",
    "\n",
    "def box_transform(boxes, im_sizes):\n",
    "    # box in (x, y, w, h) format\n",
    "    boxes = to_2d_tensor(boxes)\n",
    "    im_sizes = to_2d_tensor(im_sizes)\n",
    "    boxes[:, 0] = 2 * boxes[:, 0] / im_sizes[:, 0] - 1\n",
    "    boxes[:, 1] = 2 * boxes[:, 1] / im_sizes[:, 1] - 1\n",
    "    boxes[:, 2] = 2 * boxes[:, 2] / im_sizes[:, 0]\n",
    "    boxes[:, 3] = 2 * boxes[:, 3] / im_sizes[:, 1]\n",
    "    return boxes\n",
    "\n",
    "def box_transform_inv(boxes, im_sizes):\n",
    "    # box in (x, y, w, h) format\n",
    "    boxes = to_2d_tensor(boxes)\n",
    "    im_sizes = to_2d_tensor(im_sizes)\n",
    "    boxes[:, 0] = (boxes[:, 0] + 1) / 2 * im_sizes[:, 0]\n",
    "    boxes[:, 1] = (boxes[:, 1] + 1) / 2 * im_sizes[:, 1]\n",
    "    boxes[:, 2] = boxes[:, 2] / 2 * im_sizes[:, 0]\n",
    "    boxes[:, 3] = boxes[:, 3] / 2 * im_sizes[:, 1]\n",
    "    return boxes\n",
    "\n",
    "def compute_IoU(boxes1, boxes2):\n",
    "    boxes1 = to_2d_tensor(boxes1)\n",
    "    boxes1 = xywh_to_x1y1x2y2(boxes1)\n",
    "    boxes2 = to_2d_tensor(boxes2)\n",
    "    boxes2 = xywh_to_x1y1x2y2(boxes2)\n",
    "    \n",
    "    intersec = boxes1.clone()\n",
    "    intersec[:, 0] = torch.max(boxes1[:, 0], boxes2[:, 0])\n",
    "    intersec[:, 1] = torch.max(boxes1[:, 1], boxes2[:, 1])\n",
    "    intersec[:, 2] = torch.min(boxes1[:, 2], boxes2[:, 2])\n",
    "    intersec[:, 3] = torch.min(boxes1[:, 3], boxes2[:, 3])\n",
    "    \n",
    "    def compute_area(boxes):\n",
    "        # in (x1, y1, x2, y2) format\n",
    "        dx = boxes[:, 2] - boxes[:, 0]\n",
    "        dx[dx < 0] = 0\n",
    "        dy = boxes[:, 3] - boxes[:, 1]\n",
    "        dy[dy < 0] = 0\n",
    "        return dx * dy\n",
    "    \n",
    "    a1 = compute_area(boxes1)\n",
    "    a2 = compute_area(boxes2)\n",
    "    ia = compute_area(intersec)\n",
    "    assert((a1 + a2 - ia <= 0).sum() == 0)\n",
    "    \n",
    "    return ia / (a1 + a2 - ia)    \n",
    "\n",
    "def compute_acc(preds, targets, im_sizes, theta=0.75):\n",
    "    preds = box_transform_inv(preds.clone(), im_sizes)\n",
    "    preds = crop_boxes(preds, im_sizes)\n",
    "    targets = box_transform_inv(targets.clone(), im_sizes)\n",
    "    IoU = compute_IoU(preds, targets)\n",
    "    corr = (IoU >= theta).sum()\n",
    "    return corr.item() / preds.size(0)\n",
    "\n",
    "class AverageMeter(object):\n",
    "    def __init__(self):\n",
    "        self.reset()\n",
    "        \n",
    "    def reset(self):\n",
    "        self.val = 0\n",
    "        self.avg = 0\n",
    "        self.sum = 0\n",
    "        self.cnt = 0\n",
    "        \n",
    "    def update(self, val, n=1):\n",
    "        self.val = val\n",
    "        self.sum += val * n\n",
    "        self.cnt += n\n",
    "        self.avg = self.sum / self.cnt\n",
    "        "
   ]
  },
  {
   "cell_type": "markdown",
   "metadata": {},
   "source": [
    "### Split dataset"
   ]
  },
  {
   "cell_type": "code",
   "execution_count": 15,
   "metadata": {},
   "outputs": [],
   "source": [
    "def split(ratio):\n",
    "    with open('data/images.txt') as f:\n",
    "        lines = f.read().splitlines()\n",
    "    class_groups = dict()\n",
    "    for line in lines:\n",
    "        value, line = line.split(' ', 1)\n",
    "        key = line.split('.', 1)[0]\n",
    "        value = value\n",
    "        if key in class_groups:\n",
    "            class_groups[key].append(value)\n",
    "        else:\n",
    "            class_groups[key] = [value]\n",
    "            \n",
    "    test_id = []\n",
    "    for _, group in class_groups.items():\n",
    "        test_id.extend(random.sample(group, int(math.ceil(len(group)*ratio))))\n",
    "    train_id = [i for i in map(str, range(1, len(lines)+1)) if i not in test_id]\n",
    "    \n",
    "    return train_id, test_id\n",
    "\n",
    "train_id, test_id = split(0.2)"
   ]
  },
  {
   "cell_type": "code",
   "execution_count": 16,
   "metadata": {},
   "outputs": [],
   "source": [
    "class CUBDataset(Dataset):\n",
    "    def __init__(self, im_ids, transform=None):\n",
    "        with open('data/images.txt') as f:\n",
    "            id_to_path = dict([l.split(' ', 1) for l in f.read().splitlines()])\n",
    "        with open('data/bounding_boxes.txt') as f:\n",
    "            id_to_box = dict()\n",
    "            for line in f.read().splitlines():\n",
    "                im_id, *box = line.split(' ')\n",
    "                id_to_box[im_id] = list(map(float, box))\n",
    "        self.imgs = [(os.path.join('data/images', id_to_path[i]), id_to_box[i])\n",
    "                     for i in im_ids]\n",
    "        if transform is None:\n",
    "            self.transform = transforms.Compose([\n",
    "                transforms.Resize((224, 224)),\n",
    "                transforms.ToTensor(),\n",
    "                transforms.Normalize([0.485, 0.456, 0.406], [0.229, 0.224, 0.225])\n",
    "            ])\n",
    "        else:\n",
    "            self.transform = transform\n",
    "            \n",
    "    def __getitem__(self, index):\n",
    "        path, box = self.imgs[index]\n",
    "        im = Image.open(path).convert('RGB')\n",
    "        im_size = np.array(im.size, dtype='float32')\n",
    "        box = np.array(box, dtype='float32')\n",
    "        \n",
    "        im = self.transform(im)\n",
    "        \n",
    "        return im, box, im_size\n",
    "    \n",
    "    def __len__(self):\n",
    "        return len(self.imgs)\n",
    "    "
   ]
  },
  {
   "cell_type": "code",
   "execution_count": 17,
   "metadata": {},
   "outputs": [],
   "source": [
    "### Define Dataset"
   ]
  },
  {
   "cell_type": "code",
   "execution_count": 18,
   "metadata": {
    "scrolled": true
   },
   "outputs": [],
   "source": [
    "splits = {'train': train_id, 'test': test_id}\n",
    "datasets = {split: CUBDataset(splits[split]) for split in ('train', 'test')}"
   ]
  },
  {
   "cell_type": "markdown",
   "metadata": {},
   "source": [
    "### Visualize training data"
   ]
  },
  {
   "cell_type": "code",
   "execution_count": 19,
   "metadata": {},
   "outputs": [],
   "source": [
    "def imshow(img, gt_box, pred_box=None):\n",
    "    plt.imshow(img)\n",
    "    \n",
    "    def draw_box(box, color='green'):\n",
    "        x, y, w, h = box_transform_inv(box, img.shape[:2][::-1])[0]\n",
    "        if x == 0:\n",
    "            x = 1\n",
    "        if y == 0:\n",
    "            y = 1\n",
    "        plt.gca().add_patch(\n",
    "            plt.Rectangle((x, y), w, h,\n",
    "                          fill=False, edgecolor=color, linewidth=2, alpha=0.5)\n",
    "        )\n",
    "        \n",
    "    draw_box(gt_box)\n",
    "    if pred_box is not None:\n",
    "        draw_box(pred_box, 'red')"
   ]
  },
  {
   "cell_type": "code",
   "execution_count": 20,
   "metadata": {},
   "outputs": [
    {
     "data": {
      "image/png": "[encoded data removed]",
      "text/plain": [
       "<matplotlib.figure.Figure at 0x7f61c71146a0>"
      ]
     },
     "metadata": {},
     "output_type": "display_data"
    }
   ],
   "source": [
    "ind = random.choice(range(len(datasets['train'])))\n",
    "im, box, im_size = datasets['train'][ind]\n",
    "box = box_transform(box, im_size)\n",
    "\n",
    "inp = im.numpy().transpose((1, 2, 0))\n",
    "mean = np.array([0.485, 0.456, 0.406])\n",
    "std = np.array([0.229, 0.224, 0.225])\n",
    "inp = std * inp + mean\n",
    "inp = np.clip(inp, 0, 1)\n",
    "\n",
    "imshow(inp, box[0])"
   ]
  },
  {
   "cell_type": "markdown",
   "metadata": {},
   "source": [
    "### Training"
   ]
  },
  {
   "cell_type": "code",
   "execution_count": null,
   "metadata": {
    "scrolled": true
   },
   "outputs": [
    {
     "name": "stderr",
     "output_type": "stream",
     "text": [
      "N/A% (0 of 295) |                        | Elapsed Time: 0:00:00 ETA:  --:--:--/home/ubuntu/anaconda3/envs/ai_3_2/lib/python3.6/site-packages/ipykernel_launcher.py:51: UserWarning: invalid index of a 0-dim tensor. This will be an error in PyTorch 0.5. Use tensor.item() to convert a 0-dim tensor to a Python number\n",
      "100% (295 of 295) |######################| Elapsed Time: 0:01:17 Time:  0:01:17\n"
     ]
    },
    {
     "name": "stdout",
     "output_type": "stream",
     "text": [
      "[train]\tEpoch: 1/20\tLoss: 0.0266\tAcc: 24.81%\tTime: 78.324\n"
     ]
    },
    {
     "name": "stderr",
     "output_type": "stream",
     "text": [
      "100% (75 of 75) |########################| Elapsed Time: 0:00:11 Time:  0:00:11\n"
     ]
    },
    {
     "name": "stdout",
     "output_type": "stream",
     "text": [
      "[test]\tEpoch: 1/20\tLoss: 0.0233\tAcc: 29.53%\tTime: 11.691\n",
      "[Info] best test acc: 29.53% at 0th epoch\n"
     ]
    },
    {
     "name": "stderr",
     "output_type": "stream",
     "text": [
      "100% (295 of 295) |######################| Elapsed Time: 0:01:18 Time:  0:01:18\n"
     ]
    },
    {
     "name": "stdout",
     "output_type": "stream",
     "text": [
      "[train]\tEpoch: 2/20\tLoss: 0.0110\tAcc: 40.33%\tTime: 78.663\n"
     ]
    },
    {
     "name": "stderr",
     "output_type": "stream",
     "text": [
      "100% (75 of 75) |########################| Elapsed Time: 0:00:11 Time:  0:00:11\n"
     ]
    },
    {
     "name": "stdout",
     "output_type": "stream",
     "text": [
      "[test]\tEpoch: 2/20\tLoss: 0.0113\tAcc: 37.67%\tTime: 11.459\n",
      "[Info] best test acc: 37.67% at 1th epoch\n"
     ]
    },
    {
     "name": "stderr",
     "output_type": "stream",
     "text": [
      "100% (295 of 295) |######################| Elapsed Time: 0:01:18 Time:  0:01:18\n"
     ]
    },
    {
     "name": "stdout",
     "output_type": "stream",
     "text": [
      "[train]\tEpoch: 3/20\tLoss: 0.0080\tAcc: 48.92%\tTime: 78.759\n"
     ]
    },
    {
     "name": "stderr",
     "output_type": "stream",
     "text": [
      "100% (75 of 75) |########################| Elapsed Time: 0:00:11 Time:  0:00:11\n"
     ]
    },
    {
     "name": "stdout",
     "output_type": "stream",
     "text": [
      "[test]\tEpoch: 3/20\tLoss: 0.0078\tAcc: 52.43%\tTime: 11.353\n",
      "[Info] best test acc: 52.43% at 2th epoch\n"
     ]
    },
    {
     "name": "stderr",
     "output_type": "stream",
     "text": [
      "100% (295 of 295) |######################| Elapsed Time: 0:01:18 Time:  0:01:18\n"
     ]
    },
    {
     "name": "stdout",
     "output_type": "stream",
     "text": [
      "[train]\tEpoch: 4/20\tLoss: 0.0053\tAcc: 63.70%\tTime: 78.863\n"
     ]
    },
    {
     "name": "stderr",
     "output_type": "stream",
     "text": [
      "100% (75 of 75) |########################| Elapsed Time: 0:00:11 Time:  0:00:11\n"
     ]
    },
    {
     "name": "stdout",
     "output_type": "stream",
     "text": [
      "[test]\tEpoch: 4/20\tLoss: 0.0070\tAcc: 57.50%\tTime: 11.732\n",
      "[Info] best test acc: 57.50% at 3th epoch\n"
     ]
    },
    {
     "name": "stderr",
     "output_type": "stream",
     "text": [
      "100% (295 of 295) |######################| Elapsed Time: 0:01:18 Time:  0:01:18\n"
     ]
    },
    {
     "name": "stdout",
     "output_type": "stream",
     "text": [
      "[train]\tEpoch: 5/20\tLoss: 0.0048\tAcc: 65.62%\tTime: 78.820\n"
     ]
    },
    {
     "name": "stderr",
     "output_type": "stream",
     "text": [
      "100% (75 of 75) |########################| Elapsed Time: 0:00:11 Time:  0:00:11\n"
     ]
    },
    {
     "name": "stdout",
     "output_type": "stream",
     "text": [
      "[test]\tEpoch: 5/20\tLoss: 0.0053\tAcc: 66.55%\tTime: 11.650\n",
      "[Info] best test acc: 66.55% at 4th epoch\n"
     ]
    },
    {
     "name": "stderr",
     "output_type": "stream",
     "text": [
      "100% (295 of 295) |######################| Elapsed Time: 0:01:18 Time:  0:01:18\n"
     ]
    },
    {
     "name": "stdout",
     "output_type": "stream",
     "text": [
      "[train]\tEpoch: 6/20\tLoss: 0.0020\tAcc: 90.76%\tTime: 78.817\n"
     ]
    },
    {
     "name": "stderr",
     "output_type": "stream",
     "text": [
      "100% (75 of 75) |########################| Elapsed Time: 0:00:11 Time:  0:00:11\n"
     ]
    },
    {
     "name": "stdout",
     "output_type": "stream",
     "text": [
      "[test]\tEpoch: 6/20\tLoss: 0.0024\tAcc: 89.67%\tTime: 11.846\n",
      "[Info] best test acc: 89.67% at 5th epoch\n"
     ]
    },
    {
     "name": "stderr",
     "output_type": "stream",
     "text": [
      "100% (295 of 295) |######################| Elapsed Time: 0:01:18 Time:  0:01:18\n"
     ]
    },
    {
     "name": "stdout",
     "output_type": "stream",
     "text": [
      "[train]\tEpoch: 7/20\tLoss: 0.0015\tAcc: 93.00%\tTime: 78.786\n"
     ]
    },
    {
     "name": "stderr",
     "output_type": "stream",
     "text": [
      "100% (75 of 75) |########################| Elapsed Time: 0:00:11 Time:  0:00:11\n"
     ]
    },
    {
     "name": "stdout",
     "output_type": "stream",
     "text": [
      "[test]\tEpoch: 7/20\tLoss: 0.0020\tAcc: 91.61%\tTime: 12.358\n",
      "[Info] best test acc: 91.61% at 6th epoch\n"
     ]
    },
    {
     "name": "stderr",
     "output_type": "stream",
     "text": [
      "100% (295 of 295) |######################| Elapsed Time: 0:01:18 Time:  0:01:18\n"
     ]
    },
    {
     "name": "stdout",
     "output_type": "stream",
     "text": [
      "[train]\tEpoch: 8/20\tLoss: 0.0014\tAcc: 94.10%\tTime: 78.955\n"
     ]
    },
    {
     "name": "stderr",
     "output_type": "stream",
     "text": [
      "100% (75 of 75) |########################| Elapsed Time: 0:00:11 Time:  0:00:11\n"
     ]
    },
    {
     "name": "stdout",
     "output_type": "stream",
     "text": [
      "[test]\tEpoch: 8/20\tLoss: 0.0019\tAcc: 92.54%\tTime: 11.633\n",
      "[Info] best test acc: 92.54% at 7th epoch\n"
     ]
    },
    {
     "name": "stderr",
     "output_type": "stream",
     "text": [
      "100% (295 of 295) |######################| Elapsed Time: 0:01:18 Time:  0:01:18\n"
     ]
    },
    {
     "name": "stdout",
     "output_type": "stream",
     "text": [
      "[train]\tEpoch: 9/20\tLoss: 0.0012\tAcc: 94.88%\tTime: 78.962\n"
     ]
    },
    {
     "name": "stderr",
     "output_type": "stream",
     "text": [
      "100% (75 of 75) |########################| Elapsed Time: 0:00:10 Time:  0:00:10\n"
     ]
    },
    {
     "name": "stdout",
     "output_type": "stream",
     "text": [
      "[test]\tEpoch: 9/20\tLoss: 0.0017\tAcc: 93.07%\tTime: 11.081\n",
      "[Info] best test acc: 93.07% at 8th epoch\n"
     ]
    },
    {
     "name": "stderr",
     "output_type": "stream",
     "text": [
      "100% (295 of 295) |######################| Elapsed Time: 0:01:18 Time:  0:01:18\n"
     ]
    },
    {
     "name": "stdout",
     "output_type": "stream",
     "text": [
      "[train]\tEpoch: 10/20\tLoss: 0.0011\tAcc: 95.93%\tTime: 78.825\n"
     ]
    },
    {
     "name": "stderr",
     "output_type": "stream",
     "text": [
      "100% (75 of 75) |########################| Elapsed Time: 0:00:11 Time:  0:00:11\n"
     ]
    },
    {
     "name": "stdout",
     "output_type": "stream",
     "text": [
      "[test]\tEpoch: 10/20\tLoss: 0.0016\tAcc: 94.10%\tTime: 11.683\n",
      "[Info] best test acc: 94.10% at 9th epoch\n"
     ]
    },
    {
     "name": "stderr",
     "output_type": "stream",
     "text": [
      " 77% (228 of 295) |#################     | Elapsed Time: 0:01:00 ETA:   0:00:17"
     ]
    }
   ],
   "source": [
    "# prepare data\n",
    "dataloaders = {split: torch.utils.data.DataLoader(\n",
    "                datasets[split], batch_size=32,shuffle=(split=='train'),\n",
    "                num_workers=2, pin_memory=True) for split in ('train', 'test')}\n",
    "\n",
    "# construct model\n",
    "model = models.resnet18(pretrained=True)\n",
    "fc_in_size = model.fc.in_features\n",
    "model.fc = nn.Linear(fc_in_size, 4)\n",
    "model = model.cuda()\n",
    "criterion = nn.SmoothL1Loss().cuda()\n",
    "\n",
    "optimizer = torch.optim.Adam(model.parameters(), lr=1e-3)\n",
    "scheduler = lr_scheduler.StepLR(optimizer, step_size=5, gamma=0.1)\n",
    "\n",
    "best_model_state = model.state_dict()\n",
    "best_epoch = -1\n",
    "best_acc = 0.0\n",
    "\n",
    "epoch_loss = {'train': [], 'test': []}\n",
    "epoch_acc = {'train': [], 'test': []}\n",
    "epochs = 20\n",
    "for epoch in range(20):\n",
    "    accs = AverageMeter()\n",
    "    losses = AverageMeter()\n",
    "    for phase in ('train', 'test'):\n",
    "        if phase == 'train':\n",
    "            scheduler.step()\n",
    "            model.train(True)\n",
    "        else:\n",
    "            model.train(False)\n",
    "            \n",
    "        end = time.time()\n",
    "        bar = progressbar.ProgressBar()\n",
    "        for ims, boxes, im_sizes in bar(dataloaders[phase]):\n",
    "            boxes = crop_boxes(boxes, im_sizes)\n",
    "            boxes = box_transform(boxes, im_sizes)\n",
    "            \n",
    "            inputs = Variable(ims.cuda())\n",
    "            targets = Variable(boxes.cuda())\n",
    "            \n",
    "            optimizer.zero_grad()\n",
    "            \n",
    "            # forward\n",
    "            outputs = model(inputs)\n",
    "            loss = criterion(outputs, targets)\n",
    "            acc = compute_acc(outputs.data.cpu(), targets.data.cpu(), im_sizes)\n",
    "            \n",
    "            nsample = inputs.size(0)\n",
    "            accs.update(acc, nsample)\n",
    "            losses.update(loss.data[0], nsample)\n",
    "            \n",
    "            if phase == 'train':\n",
    "                loss.backward()\n",
    "                optimizer.step()\n",
    "        \n",
    "        if phase == 'test' and accs.avg > best_acc:\n",
    "            best_acc = accs.avg\n",
    "            best_epoch = epoch\n",
    "            best_model_state = model.state_dict()\n",
    "            \n",
    "        elapsed_time = time.time() - end\n",
    "        print('[{}]\\tEpoch: {}/{}\\tLoss: {:.4f}\\tAcc: {:.2%}\\tTime: {:.3f}'.format(\n",
    "            phase, epoch+1, epochs, losses.avg, accs.avg, elapsed_time))\n",
    "        epoch_loss[phase].append(losses.avg)\n",
    "        epoch_acc[phase].append(accs.avg)\n",
    "        \n",
    "    print('[Info] best test acc: {:.2%} at {}th epoch'.format(best_acc, best_epoch))\n",
    "    torch.save(best_model_state, 'best_model_state.path.tar')"
   ]
  },
  {
   "cell_type": "code",
   "execution_count": null,
   "metadata": {},
   "outputs": [],
   "source": [
    "plt.figure(figsize=(15,10))\n",
    "for phase in ('train', 'test'):\n",
    "    plt.plot(range(len(epoch_loss[phase])), epoch_loss[phase], label=(phase + '_loss'))\n",
    "    plt.plot(range(len(epoch_acc[phase])), epoch_acc[phase], label=(phase + '_acc'))\n",
    "plt.legend(prop={'size': 15})"
   ]
  },
  {
   "cell_type": "markdown",
   "metadata": {
    "collapsed": true
   },
   "source": [
    "### Visualize predicting result"
   ]
  },
  {
   "cell_type": "code",
   "execution_count": null,
   "metadata": {},
   "outputs": [],
   "source": [
    "model.load_state_dict(best_model_state)\n",
    "model = model.cpu()"
   ]
  },
  {
   "cell_type": "code",
   "execution_count": null,
   "metadata": {
    "scrolled": false
   },
   "outputs": [],
   "source": [
    "ind = random.choice(range(len(datasets['test'])))\n",
    "im, box, im_size = datasets['test'][ind]\n",
    "path, _ = datasets['test'].imgs[ind]\n",
    "print(box)\n",
    "print(im_size)\n",
    "box = box_transform(box, im_size)[0]\n",
    "#print(im_size)\n",
    "#print(box)\n",
    "\n",
    "\n",
    "pred_box = model(Variable(im.unsqueeze(0))).data[0]\n",
    "\n",
    "ori_im = np.array(Image.open(path))\n",
    "\n",
    "inp = im.numpy().transpose((1, 2, 0))\n",
    "mean = np.array([0.485, 0.456, 0.406])\n",
    "std = np.array([0.229, 0.224, 0.225])\n",
    "inp = std * inp + mean\n",
    "inp = np.clip(inp, 0, 1)\n",
    "\n",
    "imshow(ori_im, box, pred_box)"
   ]
  },
  {
   "cell_type": "code",
   "execution_count": null,
   "metadata": {},
   "outputs": [],
   "source": []
  }
 ],
 "metadata": {
  "kernelspec": {
   "display_name": "Python 3",
   "language": "python",
   "name": "python3"
  },
  "language_info": {
   "codemirror_mode": {
    "name": "ipython",
    "version": 3
   },
   "file_extension": ".py",
   "mimetype": "text/x-python",
   "name": "python",
   "nbconvert_exporter": "python",
   "pygments_lexer": "ipython3",
   "version": "3.6.1"
  }
 },
 "nbformat": 4,
 "nbformat_minor": 2
}
